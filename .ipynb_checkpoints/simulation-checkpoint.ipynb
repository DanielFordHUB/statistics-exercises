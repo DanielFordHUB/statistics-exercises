{
 "cells": [
  {
   "cell_type": "code",
   "execution_count": 3,
   "id": "d2380b1a",
   "metadata": {},
   "outputs": [],
   "source": [
    "import numpy as np\n",
    "import pandas as pd\n",
    "import matplotlib as plt\n",
    "\n",
    "np.random.seed(29)"
   ]
  },
  {
   "cell_type": "code",
   "execution_count": 86,
   "id": "0d2f0bf8",
   "metadata": {},
   "outputs": [],
   "source": [
    "import scipy.stats as stats"
   ]
  },
  {
   "cell_type": "code",
   "execution_count": 87,
   "id": "d2c3f290",
   "metadata": {},
   "outputs": [
    {
     "data": {
      "text/plain": [
       "array([[6, 1],\n",
       "       [4, 4],\n",
       "       [6, 3],\n",
       "       ...,\n",
       "       [3, 2],\n",
       "       [1, 2],\n",
       "       [4, 2]])"
      ]
     },
     "execution_count": 87,
     "metadata": {},
     "output_type": "execute_result"
    }
   ],
   "source": [
    "# 1 How likely is it that you roll doubles when rolling two dice?\n",
    "\n",
    "n_trials = n_rows = 10_000\n",
    "n_dice = n_cols = 2\n",
    "\n",
    "rolls = np.random.choice([1,2,3,4,5,6], size = (n_trials, n_dice))\n",
    "rolls"
   ]
  },
  {
   "cell_type": "code",
   "execution_count": 6,
   "id": "6d2607ad",
   "metadata": {},
   "outputs": [
    {
     "data": {
      "text/plain": [
       "array([10, 11,  4, ...,  7,  5, 10])"
      ]
     },
     "execution_count": 6,
     "metadata": {},
     "output_type": "execute_result"
    }
   ],
   "source": []
  },
  {
   "cell_type": "code",
   "execution_count": 91,
   "id": "1f89ce16",
   "metadata": {},
   "outputs": [
    {
     "data": {
      "text/plain": [
       "0.1696"
      ]
     },
     "execution_count": 91,
     "metadata": {},
     "output_type": "execute_result"
    }
   ],
   "source": [
    "(rolls[:,0]==rolls[:,1]).mean()"
   ]
  },
  {
   "cell_type": "code",
   "execution_count": 21,
   "id": "e2fce039",
   "metadata": {},
   "outputs": [],
   "source": [
    "#convert to DF\n",
    "rdf = pd.DataFrame(rolls)\n",
    "rdf.describe()\n",
    "#rename columns for ease\n",
    "rdf = rdf.rename(columns={0: 'D1', 1: 'D2'})"
   ]
  },
  {
   "cell_type": "code",
   "execution_count": 33,
   "id": "b96595cc",
   "metadata": {},
   "outputs": [
    {
     "data": {
      "text/plain": [
       "False    8291\n",
       "True     1709\n",
       "dtype: int64"
      ]
     },
     "execution_count": 33,
     "metadata": {},
     "output_type": "execute_result"
    }
   ],
   "source": [
    "doubles = rdf.D1 - rdf.D2 == 0\n",
    "doubles.value_counts()"
   ]
  },
  {
   "cell_type": "code",
   "execution_count": null,
   "id": "9fbe0e75",
   "metadata": {},
   "outputs": [],
   "source": [
    "# 2 If you flip 8 coins, what is the probability of getting \n",
    "# exactly 3 heads? What is the probability of getting more than 3 heads?"
   ]
  },
  {
   "cell_type": "code",
   "execution_count": 81,
   "id": "603300a8",
   "metadata": {},
   "outputs": [],
   "source": [
    "n_trials = n_rows = 10_000\n",
    "n_qt = n_cols = 8\n",
    "# 1 = heads\n",
    "# 2 = tails\n",
    "flips = np.random.choice([1, 2], size = (n_trials, n_qt))\n",
    "no_tails = flips % 2\n",
    "threeheads = no_tails.sum(axis = 1) == 3\n"
   ]
  },
  {
   "cell_type": "code",
   "execution_count": 82,
   "id": "97a81128",
   "metadata": {},
   "outputs": [
    {
     "data": {
      "text/plain": [
       "0.2215"
      ]
     },
     "execution_count": 82,
     "metadata": {},
     "output_type": "execute_result"
    }
   ],
   "source": [
    "threeheads.sum() #percent with only 3 HEADS\n",
    "2215/10000"
   ]
  },
  {
   "cell_type": "code",
   "execution_count": 92,
   "id": "c98ca113",
   "metadata": {},
   "outputs": [
    {
     "data": {
      "text/plain": [
       "0.6338"
      ]
     },
     "execution_count": 92,
     "metadata": {},
     "output_type": "execute_result"
    }
   ],
   "source": [
    "morethreeheads = no_tails.sum(axis = 1) > 3\n",
    "(morethreeheads.sum()) / 10000\n",
    "# 85% have 3 or more heads"
   ]
  },
  {
   "cell_type": "code",
   "execution_count": null,
   "id": "655c8e2b",
   "metadata": {},
   "outputs": [],
   "source": [
    "# 3"
   ]
  },
  {
   "cell_type": "code",
   "execution_count": null,
   "id": "e91199a8",
   "metadata": {},
   "outputs": [],
   "source": []
  },
  {
   "cell_type": "code",
   "execution_count": 43,
   "id": "323ab4d5",
   "metadata": {},
   "outputs": [
    {
     "data": {
      "text/html": [
       "<div>\n",
       "<style scoped>\n",
       "    .dataframe tbody tr th:only-of-type {\n",
       "        vertical-align: middle;\n",
       "    }\n",
       "\n",
       "    .dataframe tbody tr th {\n",
       "        vertical-align: top;\n",
       "    }\n",
       "\n",
       "    .dataframe thead th {\n",
       "        text-align: right;\n",
       "    }\n",
       "</style>\n",
       "<table border=\"1\" class=\"dataframe\">\n",
       "  <thead>\n",
       "    <tr style=\"text-align: right;\">\n",
       "      <th></th>\n",
       "      <th>0</th>\n",
       "      <th>1</th>\n",
       "      <th>2</th>\n",
       "      <th>3</th>\n",
       "      <th>4</th>\n",
       "      <th>5</th>\n",
       "      <th>6</th>\n",
       "      <th>7</th>\n",
       "    </tr>\n",
       "  </thead>\n",
       "  <tbody>\n",
       "    <tr>\n",
       "      <th>count</th>\n",
       "      <td>10000</td>\n",
       "      <td>10000</td>\n",
       "      <td>10000</td>\n",
       "      <td>10000</td>\n",
       "      <td>10000</td>\n",
       "      <td>10000</td>\n",
       "      <td>10000</td>\n",
       "      <td>10000</td>\n",
       "    </tr>\n",
       "    <tr>\n",
       "      <th>unique</th>\n",
       "      <td>2</td>\n",
       "      <td>2</td>\n",
       "      <td>2</td>\n",
       "      <td>2</td>\n",
       "      <td>2</td>\n",
       "      <td>2</td>\n",
       "      <td>2</td>\n",
       "      <td>2</td>\n",
       "    </tr>\n",
       "    <tr>\n",
       "      <th>top</th>\n",
       "      <td>T</td>\n",
       "      <td>T</td>\n",
       "      <td>T</td>\n",
       "      <td>H</td>\n",
       "      <td>H</td>\n",
       "      <td>T</td>\n",
       "      <td>H</td>\n",
       "      <td>H</td>\n",
       "    </tr>\n",
       "    <tr>\n",
       "      <th>freq</th>\n",
       "      <td>5036</td>\n",
       "      <td>5058</td>\n",
       "      <td>5065</td>\n",
       "      <td>5026</td>\n",
       "      <td>5006</td>\n",
       "      <td>5064</td>\n",
       "      <td>5059</td>\n",
       "      <td>5086</td>\n",
       "    </tr>\n",
       "  </tbody>\n",
       "</table>\n",
       "</div>"
      ],
      "text/plain": [
       "            0      1      2      3      4      5      6      7\n",
       "count   10000  10000  10000  10000  10000  10000  10000  10000\n",
       "unique      2      2      2      2      2      2      2      2\n",
       "top         T      T      T      H      H      T      H      H\n",
       "freq     5036   5058   5065   5026   5006   5064   5059   5086"
      ]
     },
     "execution_count": 43,
     "metadata": {},
     "output_type": "execute_result"
    }
   ],
   "source": [
    "fdf = pd.DataFrame(flips)\n",
    "\n",
    "fdf.describe()"
   ]
  },
  {
   "cell_type": "code",
   "execution_count": 72,
   "id": "7f688b76",
   "metadata": {},
   "outputs": [
    {
     "data": {
      "text/plain": [
       "array([[1, 1, 0, ..., 0, 0, 0],\n",
       "       [0, 0, 0, ..., 0, 0, 0],\n",
       "       [0, 1, 0, ..., 0, 1, 0],\n",
       "       ...,\n",
       "       [1, 1, 0, ..., 1, 0, 1],\n",
       "       [0, 1, 0, ..., 0, 0, 0],\n",
       "       [0, 1, 0, ..., 1, 1, 1]])"
      ]
     },
     "execution_count": 72,
     "metadata": {},
     "output_type": "execute_result"
    }
   ],
   "source": [
    "no_tails"
   ]
  },
  {
   "cell_type": "markdown",
   "id": "86c58846",
   "metadata": {},
   "source": [
    "3 There are approximitely 3 web development cohorts for every 1 data science cohort at Codeup. Assuming that Codeup randomly selects an alumni to put on a billboard, what are the odds that the two billboards I drive past both have data science students on them?"
   ]
  },
  {
   "cell_type": "code",
   "execution_count": 96,
   "id": "1e8b4ea6",
   "metadata": {},
   "outputs": [
    {
     "data": {
      "text/plain": [
       "array([[0, 0],\n",
       "       [1, 0],\n",
       "       [0, 0],\n",
       "       ...,\n",
       "       [0, 1],\n",
       "       [0, 1],\n",
       "       [0, 0]])"
      ]
     },
     "execution_count": 96,
     "metadata": {},
     "output_type": "execute_result"
    }
   ],
   "source": [
    "n_trials = n_rows = 10_000\n",
    "n_students = n_cols = 2\n",
    "#wd = 0, dds = 1\n",
    "boards = np.random.choice([0,1], size = (n_trials, n_students), p =[0.75, 0.25])\n",
    "boards"
   ]
  },
  {
   "cell_type": "code",
   "execution_count": 97,
   "id": "72093872",
   "metadata": {},
   "outputs": [
    {
     "data": {
      "text/plain": [
       "0.0636"
      ]
     },
     "execution_count": 97,
     "metadata": {},
     "output_type": "execute_result"
    }
   ],
   "source": [
    "(boards.sum(axis = 1) ==2).mean()"
   ]
  },
  {
   "cell_type": "markdown",
   "id": "5118678f",
   "metadata": {},
   "source": [
    "4 Codeup students buy, on average, 3 poptart packages with a standard deviation of 1.5 a day from the snack vending machine. If on monday the machine is restocked with 17 poptart packages, how likely is it that I will be able to buy some poptarts on Friday afternoon? (Remember, if you have mean and standard deviation, use the np.random.normal) You'll need to make a judgement call on how to handle some of your values"
   ]
  },
  {
   "cell_type": "code",
   "execution_count": 100,
   "id": "8f6b0c29",
   "metadata": {},
   "outputs": [],
   "source": [
    "pop = np.random.normal(3,1.5, size = (10000, 5))"
   ]
  },
  {
   "cell_type": "code",
   "execution_count": 102,
   "id": "6b74c1fa",
   "metadata": {},
   "outputs": [
    {
     "data": {
      "text/plain": [
       "0.732"
      ]
     },
     "execution_count": 102,
     "metadata": {},
     "output_type": "execute_result"
    }
   ],
   "source": [
    "(pop.sum(axis=1) < 17).mean()"
   ]
  },
  {
   "cell_type": "code",
   "execution_count": null,
   "id": "4c35e447",
   "metadata": {},
   "outputs": [],
   "source": [
    "#5"
   ]
  },
  {
   "cell_type": "code",
   "execution_count": 103,
   "id": "f3cf33b1",
   "metadata": {},
   "outputs": [],
   "source": [
    "men = np.random.normal(178,8, size = 10000)\n",
    "women = np.random.normal(170, 6, size = 10000)"
   ]
  },
  {
   "cell_type": "code",
   "execution_count": 106,
   "id": "ca64c481",
   "metadata": {},
   "outputs": [
    {
     "data": {
      "text/plain": [
       "0.2096"
      ]
     },
     "execution_count": 106,
     "metadata": {},
     "output_type": "execute_result"
    }
   ],
   "source": [
    "(women > men).mean()"
   ]
  },
  {
   "cell_type": "markdown",
   "id": "b1be0714",
   "metadata": {},
   "source": [
    "#6 When installing anaconda on a student's computer, there's a 1 in 250 chance that the download is corrupted and the installation fails. What are the odds that after having 50 students download anaconda, no one has an installation issue? 100 students?\n",
    "\n",
    "What is the probability that we observe an installation issue within the first 150 students that download anaconda?"
   ]
  },
  {
   "cell_type": "code",
   "execution_count": 111,
   "id": "526f3ab4",
   "metadata": {},
   "outputs": [],
   "source": [
    "# 0 = no issue\n",
    "# 1 = issue\n",
    "install = np.random.choice([0,1], size = (10000, 50), p = [249/250, 1/250])"
   ]
  },
  {
   "cell_type": "code",
   "execution_count": 113,
   "id": "8700fcab",
   "metadata": {},
   "outputs": [
    {
     "data": {
      "text/plain": [
       "0.8182"
      ]
     },
     "execution_count": 113,
     "metadata": {},
     "output_type": "execute_result"
    }
   ],
   "source": [
    "(install.sum(axis = 1) == 0).mean()"
   ]
  },
  {
   "cell_type": "code",
   "execution_count": 114,
   "id": "c9692825",
   "metadata": {},
   "outputs": [],
   "source": [
    "install_100 = np.random.choice([0,1], size = (10000, 100), p = [249/250, 1/250])"
   ]
  },
  {
   "cell_type": "code",
   "execution_count": 115,
   "id": "a5a8c03a",
   "metadata": {},
   "outputs": [
    {
     "data": {
      "text/plain": [
       "0.6634"
      ]
     },
     "execution_count": 115,
     "metadata": {},
     "output_type": "execute_result"
    }
   ],
   "source": [
    "(install_100.sum(axis = 1) == 0).mean()"
   ]
  },
  {
   "cell_type": "code",
   "execution_count": 116,
   "id": "9ca21119",
   "metadata": {},
   "outputs": [],
   "source": [
    "install_150 = np.random.choice([0,1], size = (10000, 150), p = [249/250, 1/250])"
   ]
  },
  {
   "cell_type": "code",
   "execution_count": 117,
   "id": "c3337696",
   "metadata": {},
   "outputs": [
    {
     "data": {
      "text/plain": [
       "0.4568"
      ]
     },
     "execution_count": 117,
     "metadata": {},
     "output_type": "execute_result"
    }
   ],
   "source": [
    "(install_150.sum(axis = 1) > 0).mean()"
   ]
  },
  {
   "cell_type": "code",
   "execution_count": 118,
   "id": "ed4a8341",
   "metadata": {},
   "outputs": [],
   "source": [
    "install_450 = np.random.choice([0,1], size = (10000, 450), p = [249/250, 1/250])"
   ]
  },
  {
   "cell_type": "code",
   "execution_count": 120,
   "id": "0e0c0c07",
   "metadata": {},
   "outputs": [
    {
     "data": {
      "text/plain": [
       "0.164"
      ]
     },
     "execution_count": 120,
     "metadata": {},
     "output_type": "execute_result"
    }
   ],
   "source": [
    "(install_450.sum(axis = 1) == 0).mean()"
   ]
  },
  {
   "cell_type": "markdown",
   "id": "de3f5f53",
   "metadata": {},
   "source": [
    "#7 There's a 70% chance on any given day that there will be at least one food truck at Travis Park. However, you haven't seen a food truck there in 3 days. How unlikely is this?\n",
    "\n",
    "How likely is it that a food truck will show up sometime this week?"
   ]
  },
  {
   "cell_type": "code",
   "execution_count": 124,
   "id": "89c9e4f8",
   "metadata": {},
   "outputs": [],
   "source": [
    "#0 = no truck\n",
    "#1 = truck\n",
    "trucks = np.random.choice([0,1], size = (10000, 3), p = (0.3, 0.7))"
   ]
  },
  {
   "cell_type": "code",
   "execution_count": 134,
   "id": "fcf969c2",
   "metadata": {},
   "outputs": [
    {
     "data": {
      "text/plain": [
       "0.9714"
      ]
     },
     "execution_count": 134,
     "metadata": {},
     "output_type": "execute_result"
    }
   ],
   "source": [
    "(trucks.sum(axis = 1)>0).mean()"
   ]
  },
  {
   "cell_type": "code",
   "execution_count": null,
   "id": "3ad6ba73",
   "metadata": {},
   "outputs": [],
   "source": []
  },
  {
   "cell_type": "code",
   "execution_count": 126,
   "id": "f8b7513f",
   "metadata": {},
   "outputs": [],
   "source": [
    "trucks1 = np.random.choice([0,1], size = (10000, 2), p = (0.3, 0.7))"
   ]
  },
  {
   "cell_type": "code",
   "execution_count": 127,
   "id": "b6957a19",
   "metadata": {},
   "outputs": [
    {
     "data": {
      "text/plain": [
       "0.9143"
      ]
     },
     "execution_count": 127,
     "metadata": {},
     "output_type": "execute_result"
    }
   ],
   "source": [
    "(trucks1.sum(axis = 1) > 0).mean()"
   ]
  },
  {
   "cell_type": "markdown",
   "id": "de65d477",
   "metadata": {},
   "source": [
    "8 If 23 people are in the same room, what are the odds that two of them share a birthday? What if it's 20 people? 40?"
   ]
  },
  {
   "cell_type": "code",
   "execution_count": 132,
   "id": "de265760",
   "metadata": {},
   "outputs": [
    {
     "data": {
      "text/plain": [
       "array([[218, 100, 316, ..., 210, 314,  82],\n",
       "       [284, 196, 361, ..., 294, 285, 212],\n",
       "       [ 31,  39,  17, ..., 249, 130, 281],\n",
       "       ...,\n",
       "       [218, 152, 177, ...,  73, 246,  30],\n",
       "       [ 68, 251, 114, ...,  76, 293, 130],\n",
       "       [ 36, 280, 357, ..., 175, 365, 296]])"
      ]
     },
     "execution_count": 132,
     "metadata": {},
     "output_type": "execute_result"
    }
   ],
   "source": [
    "bd = np.random.choice(range(1,366), size = (10000, 23))\n",
    "bd"
   ]
  },
  {
   "cell_type": "code",
   "execution_count": 133,
   "id": "c39eb6c9",
   "metadata": {},
   "outputs": [
    {
     "data": {
      "text/plain": [
       "0.5098"
      ]
     },
     "execution_count": 133,
     "metadata": {},
     "output_type": "execute_result"
    }
   ],
   "source": [
    "(pd.DataFrame(bd).nunique(axis = 1) < 23).mean()"
   ]
  },
  {
   "cell_type": "code",
   "execution_count": null,
   "id": "4132d4e7",
   "metadata": {},
   "outputs": [],
   "source": []
  }
 ],
 "metadata": {
  "kernelspec": {
   "display_name": "Python 3 (ipykernel)",
   "language": "python",
   "name": "python3"
  },
  "language_info": {
   "codemirror_mode": {
    "name": "ipython",
    "version": 3
   },
   "file_extension": ".py",
   "mimetype": "text/x-python",
   "name": "python",
   "nbconvert_exporter": "python",
   "pygments_lexer": "ipython3",
   "version": "3.9.12"
  }
 },
 "nbformat": 4,
 "nbformat_minor": 5
}
