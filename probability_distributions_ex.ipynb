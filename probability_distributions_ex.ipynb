{
 "cells": [
  {
   "cell_type": "markdown",
   "id": "a21d9d10",
   "metadata": {},
   "source": [
    "1 \n",
    "\n",
    "A bank found that the average number of cars waiting during the noon hour at a drive-up window follows a Poisson distribution with a mean of 2 cars. Make a chart of this distribution and answer these questions concerning the probability of cars waiting at the drive-up window.\n",
    "\n",
    "What is the probability that no cars drive up in the noon hour?\n",
    "\n",
    "What is the probability that 3 or more cars come through the drive through?\n",
    "\n",
    "How likely is it that the drive through gets at least 1 car?"
   ]
  },
  {
   "cell_type": "code",
   "execution_count": 2,
   "id": "85687c5c",
   "metadata": {},
   "outputs": [],
   "source": [
    "import matplotlib.pyplot as plt\n",
    "import numpy as np\n",
    "import pandas as pd\n",
    "from scipy import stats"
   ]
  },
  {
   "cell_type": "code",
   "execution_count": 5,
   "id": "fb67b2df",
   "metadata": {},
   "outputs": [
    {
     "data": {
      "text/plain": [
       "0.1353352832366127"
      ]
     },
     "execution_count": 5,
     "metadata": {},
     "output_type": "execute_result"
    }
   ],
   "source": [
    "# the probability that no cars drive up in the noon hour?\n",
    "λ = 2\n",
    "stats.poisson(λ).pmf(0)\n",
    "  \n",
    " "
   ]
  },
  {
   "cell_type": "code",
   "execution_count": 14,
   "id": "23b0f79c",
   "metadata": {},
   "outputs": [
    {
     "data": {
      "text/plain": [
       "0.32332358381693654"
      ]
     },
     "execution_count": 14,
     "metadata": {},
     "output_type": "execute_result"
    }
   ],
   "source": [
    "# the probability that 3 or more cars come through the drive through?\n",
    "stats.poisson(λ).sf(2)"
   ]
  },
  {
   "cell_type": "code",
   "execution_count": 15,
   "id": "e7c3d253",
   "metadata": {},
   "outputs": [
    {
     "data": {
      "text/plain": [
       "0.8646647167633873"
      ]
     },
     "execution_count": 15,
     "metadata": {},
     "output_type": "execute_result"
    }
   ],
   "source": [
    "# How likely is it that the drive through gets at least 1 car?\n",
    "\n",
    "stats.poisson(λ).sf(0)"
   ]
  },
  {
   "cell_type": "markdown",
   "id": "49bdc9fa",
   "metadata": {},
   "source": [
    "2\n",
    "\n",
    "Grades of State University graduates are normally distributed with a mean of 3.0 and a standard deviation of .3. Calculate the following:\n",
    "\n",
    "What grade point average is required to be in the top 5% of the graduating class?\n",
    "\n",
    "What GPA constitutes the bottom 15% of the class?\n",
    "\n",
    "An eccentric alumnus left scholarship money for students in the third decile from the bottom of their class. Determine the range of the third decile. Would a student with a 2.8 grade point average qualify for this scholarship?\n",
    "\n",
    "If I have a GPA of 3.5, what percentile am I in?"
   ]
  },
  {
   "cell_type": "code",
   "execution_count": 11,
   "id": "c8db551d",
   "metadata": {},
   "outputs": [],
   "source": [
    "mean = 3\n",
    "std = 0.3"
   ]
  },
  {
   "cell_type": "code",
   "execution_count": 13,
   "id": "0cf3c4b5",
   "metadata": {},
   "outputs": [],
   "source": [
    "gpa = stats.norm(mean, std)"
   ]
  },
  {
   "cell_type": "code",
   "execution_count": 16,
   "id": "42eddc97",
   "metadata": {},
   "outputs": [
    {
     "data": {
      "text/plain": [
       "3.4934560880854417"
      ]
     },
     "execution_count": 16,
     "metadata": {},
     "output_type": "execute_result"
    }
   ],
   "source": [
    "gpa.ppf(0.95)"
   ]
  },
  {
   "cell_type": "code",
   "execution_count": 17,
   "id": "1052bf86",
   "metadata": {},
   "outputs": [
    {
     "data": {
      "text/plain": [
       "2.689069983151863"
      ]
     },
     "execution_count": 17,
     "metadata": {},
     "output_type": "execute_result"
    }
   ],
   "source": [
    "gpa.ppf(0.15)"
   ]
  },
  {
   "cell_type": "code",
   "execution_count": 18,
   "id": "e3b87b37",
   "metadata": {},
   "outputs": [
    {
     "data": {
      "text/plain": [
       "2.7475136299281258"
      ]
     },
     "execution_count": 18,
     "metadata": {},
     "output_type": "execute_result"
    }
   ],
   "source": [
    "gpa.ppf(0.2)"
   ]
  },
  {
   "cell_type": "code",
   "execution_count": 19,
   "id": "3f9559d8",
   "metadata": {},
   "outputs": [
    {
     "data": {
      "text/plain": [
       "2.842679846187588"
      ]
     },
     "execution_count": 19,
     "metadata": {},
     "output_type": "execute_result"
    }
   ],
   "source": [
    "gpa.ppf(0.3)"
   ]
  },
  {
   "cell_type": "code",
   "execution_count": 20,
   "id": "adaa9d2f",
   "metadata": {},
   "outputs": [
    {
     "data": {
      "text/plain": [
       "0.9522096477271853"
      ]
     },
     "execution_count": 20,
     "metadata": {},
     "output_type": "execute_result"
    }
   ],
   "source": [
    "gpa.cdf(3.5)"
   ]
  },
  {
   "cell_type": "markdown",
   "id": "213e362d",
   "metadata": {},
   "source": [
    "3\n",
    "A marketing website has an average click-through rate of 2%. One day they observe 4326 visitors and 97 click-throughs. \n",
    "\n",
    "How likely is it that this many people or more click through?"
   ]
  },
  {
   "cell_type": "code",
   "execution_count": 22,
   "id": "4897996a",
   "metadata": {},
   "outputs": [
    {
     "data": {
      "text/plain": [
       "0.13975823631416445"
      ]
     },
     "execution_count": 22,
     "metadata": {},
     "output_type": "execute_result"
    }
   ],
   "source": [
    "stats.binom(4326,0.02).sf(96)"
   ]
  },
  {
   "cell_type": "code",
   "execution_count": 23,
   "id": "6bf5d37c",
   "metadata": {},
   "outputs": [
    {
     "data": {
      "text/plain": [
       "0.45284335760923855"
      ]
     },
     "execution_count": 23,
     "metadata": {},
     "output_type": "execute_result"
    }
   ],
   "source": [
    "stats.binom(60, 0.01).sf(0)"
   ]
  },
  {
   "cell_type": "code",
   "execution_count": null,
   "id": "972f4bf9",
   "metadata": {},
   "outputs": [],
   "source": []
  },
  {
   "cell_type": "code",
   "execution_count": null,
   "id": "6f4a30e4",
   "metadata": {},
   "outputs": [],
   "source": []
  },
  {
   "cell_type": "code",
   "execution_count": null,
   "id": "be925b8c",
   "metadata": {},
   "outputs": [],
   "source": []
  },
  {
   "cell_type": "code",
   "execution_count": null,
   "id": "866d8ce0",
   "metadata": {},
   "outputs": [],
   "source": []
  },
  {
   "cell_type": "code",
   "execution_count": null,
   "id": "681a2316",
   "metadata": {},
   "outputs": [],
   "source": []
  },
  {
   "cell_type": "markdown",
   "id": "12fd348e",
   "metadata": {},
   "source": [
    "4\n",
    "\n",
    "You are working on some statistics homework consisting of 100 questions where all of the answers are a probability rounded to the hundreths place. Looking to save time, you put down random probabilities as the answer to each question.\n",
    "\n",
    "What is the probability that at least one of your first 60 answers is correct?"
   ]
  },
  {
   "cell_type": "code",
   "execution_count": 24,
   "id": "fecd0af3",
   "metadata": {},
   "outputs": [
    {
     "data": {
      "text/plain": [
       "59.4"
      ]
     },
     "execution_count": 24,
     "metadata": {},
     "output_type": "execute_result"
    }
   ],
   "source": [
    "66 * 0.9"
   ]
  },
  {
   "cell_type": "code",
   "execution_count": 25,
   "id": "82fe9ad5",
   "metadata": {},
   "outputs": [
    {
     "data": {
      "text/plain": [
       "0.8342199288437352"
      ]
     },
     "execution_count": 25,
     "metadata": {},
     "output_type": "execute_result"
    }
   ],
   "source": [
    "stats.binom(59,0.03).sf(0)"
   ]
  },
  {
   "cell_type": "markdown",
   "id": "d3fe3b2f",
   "metadata": {},
   "source": []
  },
  {
   "cell_type": "code",
   "execution_count": null,
   "id": "68d4061e",
   "metadata": {},
   "outputs": [],
   "source": []
  },
  {
   "cell_type": "code",
   "execution_count": null,
   "id": "03225e8e",
   "metadata": {},
   "outputs": [],
   "source": []
  },
  {
   "cell_type": "code",
   "execution_count": null,
   "id": "8eb59291",
   "metadata": {},
   "outputs": [],
   "source": []
  },
  {
   "cell_type": "code",
   "execution_count": null,
   "id": "155fecc9",
   "metadata": {},
   "outputs": [],
   "source": []
  },
  {
   "cell_type": "code",
   "execution_count": null,
   "id": "dd1dc6d5",
   "metadata": {},
   "outputs": [],
   "source": []
  },
  {
   "cell_type": "code",
   "execution_count": null,
   "id": "60b51723",
   "metadata": {},
   "outputs": [],
   "source": []
  },
  {
   "cell_type": "markdown",
   "id": "a9261d71",
   "metadata": {},
   "source": [
    "5\n",
    "\n",
    "The codeup staff tends to get upset when the student break area is not cleaned up. \n",
    "Suppose that there's a 3% chance that any one student cleans the break area when they visit it, and, on any given day, about 90% of the 3 active cohorts of 22 students visit the break area. \n",
    "\n",
    "How likely is it that the break area gets cleaned up each day? \n",
    "\n",
    "How likely is it that it goes two days without getting cleaned up? \n",
    "\n",
    "All week?"
   ]
  },
  {
   "cell_type": "code",
   "execution_count": 26,
   "id": "35654e76",
   "metadata": {},
   "outputs": [
    {
     "data": {
      "text/plain": [
       "59.4"
      ]
     },
     "execution_count": 26,
     "metadata": {},
     "output_type": "execute_result"
    }
   ],
   "source": [
    "66* .9"
   ]
  },
  {
   "cell_type": "code",
   "execution_count": 27,
   "id": "fc5d08ab",
   "metadata": {},
   "outputs": [
    {
     "data": {
      "text/plain": [
       "0.5317140258060146"
      ]
     },
     "execution_count": 27,
     "metadata": {},
     "output_type": "execute_result"
    }
   ],
   "source": [
    "stats.binom(59, 0.03).sf(1)"
   ]
  },
  {
   "cell_type": "code",
   "execution_count": 28,
   "id": "238561ca",
   "metadata": {},
   "outputs": [
    {
     "data": {
      "text/plain": [
       "0.027483031992576134"
      ]
     },
     "execution_count": 28,
     "metadata": {},
     "output_type": "execute_result"
    }
   ],
   "source": [
    "stats.binom(118,0.03).pmf(0)"
   ]
  },
  {
   "cell_type": "code",
   "execution_count": 30,
   "id": "c6e93622",
   "metadata": {},
   "outputs": [
    {
     "data": {
      "text/plain": [
       "0.00012521651388091245"
      ]
     },
     "execution_count": 30,
     "metadata": {},
     "output_type": "execute_result"
    }
   ],
   "source": [
    "stats.binom(295,0.03).pmf(0)"
   ]
  },
  {
   "cell_type": "code",
   "execution_count": null,
   "id": "0129c677",
   "metadata": {},
   "outputs": [],
   "source": []
  },
  {
   "cell_type": "code",
   "execution_count": null,
   "id": "68b9d29e",
   "metadata": {},
   "outputs": [],
   "source": []
  },
  {
   "cell_type": "code",
   "execution_count": null,
   "id": "80d44046",
   "metadata": {},
   "outputs": [],
   "source": []
  },
  {
   "cell_type": "markdown",
   "id": "6b03e9fa",
   "metadata": {},
   "source": [
    "6\n",
    "\n",
    "You want to get lunch at La Panaderia, but notice that the line is usually very long at lunchtime. After several weeks of careful observation, you notice that the average number of people in line when your lunch break starts is normally distributed with a mean of 15 and standard deviation of 3. \n",
    "\n",
    "If it takes 2 minutes for each person to order, and 10 minutes from ordering to getting your food, what is the likelihood that you have at least 15 minutes left to eat your food before you have to go back to class? \n",
    "\n",
    "Assume you have one hour for lunch, and ignore travel time to and from La Panaderia."
   ]
  },
  {
   "cell_type": "code",
   "execution_count": null,
   "id": "347b2ea0",
   "metadata": {},
   "outputs": [],
   "source": [
    "stats.norm(15, 3).cdf(16)"
   ]
  },
  {
   "cell_type": "code",
   "execution_count": null,
   "id": "d836dd43",
   "metadata": {},
   "outputs": [],
   "source": []
  },
  {
   "cell_type": "code",
   "execution_count": null,
   "id": "8a0ec4cb",
   "metadata": {},
   "outputs": [],
   "source": []
  },
  {
   "cell_type": "code",
   "execution_count": null,
   "id": "5379e4a6",
   "metadata": {},
   "outputs": [],
   "source": []
  },
  {
   "cell_type": "code",
   "execution_count": null,
   "id": "b6ea81fe",
   "metadata": {},
   "outputs": [],
   "source": []
  },
  {
   "cell_type": "code",
   "execution_count": null,
   "id": "f75d2dd3",
   "metadata": {},
   "outputs": [],
   "source": []
  },
  {
   "cell_type": "code",
   "execution_count": null,
   "id": "e5c2d5a9",
   "metadata": {},
   "outputs": [],
   "source": []
  },
  {
   "cell_type": "markdown",
   "id": "759edf83",
   "metadata": {},
   "source": [
    "7\n",
    "\n",
    "Connect to the employees database and find the average salary of current employees, along with the standard deviation. For the following questions, calculate the answer based on modeling the employees salaries with a normal distribution defined by the calculated mean and standard deviation then compare this answer to the actual values present in the salaries dataset.\n",
    "\n",
    "What percent of employees earn less than 60,000?\n",
    "\n",
    "What percent of employees earn more than 95,000?\n",
    "\n",
    "What percent of employees earn between 65,000 and 80,000?\n",
    "\n",
    "What do the top 5% of employees make?\n",
    "\n",
    "\n",
    "Hint If you're looking at this exercise and wondering \"How do I get pandas to talk the database, again?\", remember that you'll need 3 things: your .gitignore, your env.py, and to use pd.read_sql. Copy over your .gitignore and env.py from your data science libraries exercises folder, and connect to the employees database like so:"
   ]
  },
  {
   "cell_type": "code",
   "execution_count": 31,
   "id": "318c6330",
   "metadata": {},
   "outputs": [
    {
     "ename": "ModuleNotFoundError",
     "evalue": "No module named 'env'",
     "output_type": "error",
     "traceback": [
      "\u001b[0;31m---------------------------------------------------------------------------\u001b[0m",
      "\u001b[0;31mModuleNotFoundError\u001b[0m                       Traceback (most recent call last)",
      "Input \u001b[0;32mIn [31]\u001b[0m, in \u001b[0;36m<cell line: 1>\u001b[0;34m()\u001b[0m\n\u001b[0;32m----> 1\u001b[0m \u001b[38;5;28;01mimport\u001b[39;00m \u001b[38;5;21;01menv\u001b[39;00m\n",
      "\u001b[0;31mModuleNotFoundError\u001b[0m: No module named 'env'"
     ]
    }
   ],
   "source": [
    "import env"
   ]
  },
  {
   "cell_type": "code",
   "execution_count": null,
   "id": "d0d1f3fd",
   "metadata": {},
   "outputs": [],
   "source": []
  },
  {
   "cell_type": "code",
   "execution_count": null,
   "id": "30c63ad8",
   "metadata": {},
   "outputs": [],
   "source": []
  },
  {
   "cell_type": "code",
   "execution_count": null,
   "id": "206cd9da",
   "metadata": {},
   "outputs": [],
   "source": []
  },
  {
   "cell_type": "code",
   "execution_count": null,
   "id": "4e4b5e6a",
   "metadata": {},
   "outputs": [],
   "source": []
  },
  {
   "cell_type": "code",
   "execution_count": null,
   "id": "2e7c7803",
   "metadata": {},
   "outputs": [],
   "source": []
  },
  {
   "cell_type": "code",
   "execution_count": null,
   "id": "632262ab",
   "metadata": {},
   "outputs": [],
   "source": []
  },
  {
   "cell_type": "code",
   "execution_count": null,
   "id": "b689f01b",
   "metadata": {},
   "outputs": [],
   "source": []
  }
 ],
 "metadata": {
  "kernelspec": {
   "display_name": "Python 3 (ipykernel)",
   "language": "python",
   "name": "python3"
  },
  "language_info": {
   "codemirror_mode": {
    "name": "ipython",
    "version": 3
   },
   "file_extension": ".py",
   "mimetype": "text/x-python",
   "name": "python",
   "nbconvert_exporter": "python",
   "pygments_lexer": "ipython3",
   "version": "3.9.12"
  }
 },
 "nbformat": 4,
 "nbformat_minor": 5
}
